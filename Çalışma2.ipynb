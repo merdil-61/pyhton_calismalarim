{
  "nbformat": 4,
  "nbformat_minor": 0,
  "metadata": {
    "colab": {
      "provenance": []
    },
    "kernelspec": {
      "name": "python3",
      "display_name": "Python 3"
    },
    "language_info": {
      "name": "python"
    }
  },
  "cells": [
    {
      "cell_type": "markdown",
      "source": [
        "**VERİ YAPILARI VE ALGORİTMALAR**"
      ],
      "metadata": {
        "id": "yWR-SBNcrgSB"
      }
    },
    {
      "cell_type": "markdown",
      "source": [
        "** Programlama dilinde operator kavramı ve işlemler**"
      ],
      "metadata": {
        "id": "-00mOOIErJgZ"
      }
    },
    {
      "cell_type": "code",
      "execution_count": null,
      "metadata": {
        "colab": {
          "base_uri": "https://localhost:8080/"
        },
        "id": "IKO_aC16pI7z",
        "outputId": "6eeacb9f-b79f-4c54-916c-36a4906d103f"
      },
      "outputs": [
        {
          "output_type": "stream",
          "name": "stdout",
          "text": [
            "Merhaba, Programlama dilinde operator kavramı ve işlemler\n"
          ]
        }
      ],
      "source": [
        "print(\"Merhaba, Programlama dilinde operator kavramı ve işlemler\")"
      ]
    },
    {
      "cell_type": "code",
      "source": [
        "import sys\n",
        "print(sys.version)"
      ],
      "metadata": {
        "colab": {
          "base_uri": "https://localhost:8080/"
        },
        "id": "sY2xP8ucpTE-",
        "outputId": "998ea0c9-590c-4c73-96e0-7ec430a54377"
      },
      "execution_count": null,
      "outputs": [
        {
          "output_type": "stream",
          "name": "stdout",
          "text": [
            "3.11.11 (main, Dec  4 2024, 08:55:07) [GCC 11.4.0]\n"
          ]
        }
      ]
    },
    {
      "cell_type": "code",
      "source": [
        "from google.colab import drive\n",
        "drive.mount('/content/drive')"
      ],
      "metadata": {
        "colab": {
          "base_uri": "https://localhost:8080/"
        },
        "id": "AAiVOgONpW1H",
        "outputId": "85963c39-a585-4307-dad0-ed3b3aee6afc"
      },
      "execution_count": null,
      "outputs": [
        {
          "output_type": "stream",
          "name": "stdout",
          "text": [
            "Mounted at /content/drive\n"
          ]
        }
      ]
    },
    {
      "cell_type": "code",
      "source": [
        "import os\n",
        "os.chdir('/content/drive/My Drive/veri_algoritmaları/veri_algoritmaları')\n",
        "!pwd"
      ],
      "metadata": {
        "colab": {
          "base_uri": "https://localhost:8080/"
        },
        "id": "BjhHscERpaYX",
        "outputId": "ab831dd0-a8ea-4064-a215-543c853c2759"
      },
      "execution_count": null,
      "outputs": [
        {
          "output_type": "stream",
          "name": "stdout",
          "text": [
            "/content/drive/My Drive/veri_algoritmaları/veri_algoritmaları\n"
          ]
        }
      ]
    },
    {
      "cell_type": "code",
      "source": [
        "Ders_no = 4 # int-tam sayı tanımlaması\n",
        "pi_sayisi =3.14 #float -kesirli sayı\n",
        "Dersin_ismi=\"Python-Veri Yapıları ve Algoritmalar\" #String-Metinsel bilgi türü\n",
        "durum1=True #Booelan-degisken veri türü\n",
        "durum2=False #Booelan-degisken veri türü\n",
        "\n",
        "print(Ders_no)\n",
        "print(pi_sayisi)\n",
        "print(Dersin_ismi)\n",
        "print(durum1)\n",
        "print(durum2)\n",
        "\n"
      ],
      "metadata": {
        "colab": {
          "base_uri": "https://localhost:8080/"
        },
        "id": "r1SnCJdzBB4r",
        "outputId": "f34efd1e-3086-4559-a314-a6739aea9ad7"
      },
      "execution_count": null,
      "outputs": [
        {
          "output_type": "stream",
          "name": "stdout",
          "text": [
            "4\n",
            "3.14\n",
            "Python-Veri Yapıları ve Algoritmalar\n",
            "True\n",
            "False\n"
          ]
        }
      ]
    },
    {
      "cell_type": "code",
      "source": [
        "print(\"1.Degiskenin Degeri: \", Ders_no,  \"-1.Degiskenin Türü :\", type(Ders_no))\n",
        "print(\"2.Degiskenin Degeri: \", pi_sayisi, \"-2.Degiskenin Türü :\", type(pi_sayisi))\n",
        "print(\"3.Degiskenin Degeri: \", Dersin_ismi, \"-3.Degiskenin Türü :\", type(Dersin_ismi))\n",
        "print(\"4.Degiskenin Degeri: \", durum1, \"-4.Degiskenin Türü :\", type(durum1))\n",
        "print(\"5.Degiskenin Degeri: \", durum2, \"-5.Degiskenin Türü :\", type(durum2))"
      ],
      "metadata": {
        "colab": {
          "base_uri": "https://localhost:8080/"
        },
        "id": "8394PXrRDOKj",
        "outputId": "fbc97d64-5bf9-48bd-f99e-37f70a0f76fe"
      },
      "execution_count": null,
      "outputs": [
        {
          "output_type": "stream",
          "name": "stdout",
          "text": [
            "1.Degiskenin Degeri:  4 -1.Degiskenin Türü : <class 'int'>\n",
            "2.Degiskenin Degeri:  3.14 -2.Degiskenin Türü : <class 'float'>\n",
            "3.Degiskenin Degeri:  Python-Veri Yapıları ve Algoritmalar -3.Degiskenin Türü : <class 'str'>\n",
            "4.Degiskenin Degeri:  True -4.Degiskenin Türü : <class 'bool'>\n",
            "5.Degiskenin Degeri:  False -5.Degiskenin Türü : <class 'bool'>\n"
          ]
        }
      ]
    },
    {
      "cell_type": "code",
      "source": [
        "a=7\n",
        "b=3\n",
        "print(a+b)"
      ],
      "metadata": {
        "colab": {
          "base_uri": "https://localhost:8080/"
        },
        "id": "rzDcD_8fES92",
        "outputId": "aab54152-f41e-4e05-9c79-e0d3fa7fa6f3"
      },
      "execution_count": null,
      "outputs": [
        {
          "output_type": "stream",
          "name": "stdout",
          "text": [
            "10\n"
          ]
        }
      ]
    },
    {
      "cell_type": "code",
      "source": [
        "a=7\n",
        "b=3\n",
        "print(\"Toplama :\", a+b)\n",
        "print(\"Üs Alma: \", a**b)\n",
        "print(\"Mod Alma:\", a%b)"
      ],
      "metadata": {
        "colab": {
          "base_uri": "https://localhost:8080/"
        },
        "id": "V_Xf1dIyEfxx",
        "outputId": "dd7f05ba-ab73-4f0b-fab4-87420a90f2de"
      },
      "execution_count": null,
      "outputs": [
        {
          "output_type": "stream",
          "name": "stdout",
          "text": [
            "Toplama : 10\n",
            "Üs Alma:  343\n",
            "Mod Alma: 1\n"
          ]
        }
      ]
    },
    {
      "cell_type": "code",
      "source": [
        "print(\"a==b\", a==b)\n",
        "print(\"a!=b\", a!=b)\n",
        "print(\"a>b\", a>b)\n",
        "print(\"a<b\", a<b)\n",
        "print(\"a>=b\", a>=b)\n",
        "print(\"a<=b\", a<=b)\n"
      ],
      "metadata": {
        "colab": {
          "base_uri": "https://localhost:8080/"
        },
        "id": "gpC7SIR2FZEf",
        "outputId": "a60686ad-3109-4c67-97a1-dbeb5eb886fa"
      },
      "execution_count": null,
      "outputs": [
        {
          "output_type": "stream",
          "name": "stdout",
          "text": [
            "a==b False\n",
            "a!=b True\n",
            "a>b True\n",
            "a<b False\n",
            "a>=b True\n",
            "a<=b False\n"
          ]
        }
      ]
    },
    {
      "cell_type": "code",
      "source": [
        "a=True #True-Doğru-1\n",
        "b=False #False-Yanlış-0\n",
        "print(\"a ve_kapisi b:\", a and b)\n",
        "print(\"a veya_kapisi b\", a or b)\n",
        "print(\"a degiskenini tersliyoruz:\", not a)"
      ],
      "metadata": {
        "colab": {
          "base_uri": "https://localhost:8080/"
        },
        "id": "RPTl4mbuGUqW",
        "outputId": "0e8b71eb-48fe-43b1-b5a3-933a109198d6"
      },
      "execution_count": null,
      "outputs": [
        {
          "output_type": "stream",
          "name": "stdout",
          "text": [
            "a ve_kapisi b: False\n",
            "a veya_kapisi b True\n",
            "a degiskenini tersliyoruz: False\n"
          ]
        }
      ]
    },
    {
      "cell_type": "code",
      "source": [
        "x = 7\n",
        "y=4\n",
        "\n",
        "x+=3 #x=x+3\n",
        "y-=3 #y=y-3\n",
        "print(x)\n",
        "print(y)"
      ],
      "metadata": {
        "colab": {
          "base_uri": "https://localhost:8080/"
        },
        "id": "KpTIetsJHRPt",
        "outputId": "19976e81-99a6-4b09-98cd-b92b75e56707"
      },
      "execution_count": null,
      "outputs": [
        {
          "output_type": "stream",
          "name": "stdout",
          "text": [
            "10\n",
            "1\n"
          ]
        }
      ]
    },
    {
      "cell_type": "code",
      "source": [
        "a = 7\n",
        "b = 3\n",
        "\n",
        "print(a&b)\n",
        "print(a|b)"
      ],
      "metadata": {
        "colab": {
          "base_uri": "https://localhost:8080/"
        },
        "id": "VaTP3B0iH47P",
        "outputId": "cedd7c47-067e-451e-b2bf-e61f75107671"
      },
      "execution_count": null,
      "outputs": [
        {
          "output_type": "stream",
          "name": "stdout",
          "text": [
            "3\n",
            "7\n"
          ]
        }
      ]
    },
    {
      "cell_type": "markdown",
      "source": [
        "\n",
        "   (3210)\n",
        "7 = 0111\n",
        "3 = 0011\n",
        "--------\n",
        "& = 0011=(3)10\n",
        "\n",
        "--\n",
        "   (3210)\n",
        "7 = 0111\n",
        "3 = 0011\n",
        "--------\n",
        "|= (0011)2=(7)10\n",
        "--\n",
        "  (3210)\n",
        "7 = 0111\n",
        "3 = 0011\n",
        "--------\n",
        "|= (0100)2=(7)10\n",
        "\n"
      ],
      "metadata": {
        "id": "oKpc08goIJDK"
      }
    }
  ]
}