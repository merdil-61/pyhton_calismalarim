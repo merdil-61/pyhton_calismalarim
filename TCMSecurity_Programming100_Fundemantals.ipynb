{
  "nbformat": 4,
  "nbformat_minor": 0,
  "metadata": {
    "colab": {
      "provenance": []
    },
    "kernelspec": {
      "name": "python3",
      "display_name": "Python 3"
    },
    "language_info": {
      "name": "python"
    }
  },
  "cells": [
    {
      "cell_type": "code",
      "execution_count": 1,
      "metadata": {
        "colab": {
          "base_uri": "https://localhost:8080/"
        },
        "id": "IKO_aC16pI7z",
        "outputId": "0d8417ab-2c6a-444d-e38c-63b80f17af48"
      },
      "outputs": [
        {
          "output_type": "stream",
          "name": "stdout",
          "text": [
            "Merhaba, TCM Security\n"
          ]
        }
      ],
      "source": [
        "print(\"Merhaba, TCM Security\")"
      ]
    },
    {
      "cell_type": "code",
      "source": [
        "import sys\n",
        "print(sys.version)"
      ],
      "metadata": {
        "colab": {
          "base_uri": "https://localhost:8080/"
        },
        "id": "sY2xP8ucpTE-",
        "outputId": "599a53a3-3e3a-4428-b1d7-9dec4df4bfe2"
      },
      "execution_count": 2,
      "outputs": [
        {
          "output_type": "stream",
          "name": "stdout",
          "text": [
            "3.11.11 (main, Dec  4 2024, 08:55:07) [GCC 11.4.0]\n"
          ]
        }
      ]
    },
    {
      "cell_type": "code",
      "source": [
        "from google.colab import drive\n",
        "drive.mount('/content/drive')"
      ],
      "metadata": {
        "colab": {
          "base_uri": "https://localhost:8080/"
        },
        "id": "AAiVOgONpW1H",
        "outputId": "60fdb919-a847-4dec-e526-243eadcf69ca"
      },
      "execution_count": 3,
      "outputs": [
        {
          "output_type": "stream",
          "name": "stdout",
          "text": [
            "Mounted at /content/drive\n"
          ]
        }
      ]
    },
    {
      "cell_type": "code",
      "source": [
        "import os\n",
        "os.chdir('/content/drive/My Drive/veri_algoritmaları/veri_algoritmaları')\n",
        "!pwd"
      ],
      "metadata": {
        "colab": {
          "base_uri": "https://localhost:8080/"
        },
        "id": "BjhHscERpaYX",
        "outputId": "e124dd4a-9674-4787-912b-6e2fe17af475"
      },
      "execution_count": 4,
      "outputs": [
        {
          "output_type": "stream",
          "name": "stdout",
          "text": [
            "/content/drive/My Drive/veri_algoritmaları/veri_algoritmaları\n"
          ]
        }
      ]
    },
    {
      "cell_type": "code",
      "source": [
        "#Math\n",
        "print(40 + 40) #add\n"
      ],
      "metadata": {
        "colab": {
          "base_uri": "https://localhost:8080/"
        },
        "id": "84S76plUuyGj",
        "outputId": "f75feca6-67b4-4aff-ab49-305f4f218be1"
      },
      "execution_count": 14,
      "outputs": [
        {
          "output_type": "stream",
          "name": "stdout",
          "text": [
            "80\n"
          ]
        }
      ]
    },
    {
      "cell_type": "code",
      "source": [
        "print(40 - 40) #subtract\n",
        "print(40 * 40) #multiply\n",
        "print(40 / 40) #divide\n",
        "print(40 + 50 - 40 * 40 / 40) #PEMDAS\n",
        "print(40 ** 2) #exponents\n",
        "print(40 % 6) #modulo - takes what is left over\n",
        "print(40 / 6) #division with decimals\n",
        "print(40 // 6) #no remainder"
      ],
      "metadata": {
        "colab": {
          "base_uri": "https://localhost:8080/"
        },
        "id": "NozXsZbeu6QL",
        "outputId": "e1272588-c8bb-4b2c-cd1c-8a338f253de7"
      },
      "execution_count": 12,
      "outputs": [
        {
          "output_type": "stream",
          "name": "stdout",
          "text": [
            "0\n",
            "1600\n",
            "1.0\n",
            "50.0\n",
            "1600\n",
            "4\n",
            "6.666666666666667\n",
            "6\n"
          ]
        }
      ]
    },
    {
      "cell_type": "code",
      "source": [
        "# Variable assignment\n",
        "x = 10\n",
        "name = \"Jenny\"\n",
        "is_true = True\n",
        "\n",
        "\n",
        "# Variable usage\n",
        "y = x + 4\n",
        "print(\"Hello, \" + name)\n",
        "if is_true:\n",
        "    print(\"The condition is true\")"
      ],
      "metadata": {
        "colab": {
          "base_uri": "https://localhost:8080/"
        },
        "id": "2t3e9b9Zu8YZ",
        "outputId": "a60724d8-23d4-4df8-9ccd-f20402cbcf39"
      },
      "execution_count": 11,
      "outputs": [
        {
          "output_type": "stream",
          "name": "stdout",
          "text": [
            "Hello, Jenny\n",
            "The condition is true\n"
          ]
        }
      ]
    },
    {
      "cell_type": "code",
      "source": [
        "# Built-in method example\n",
        "numbers = [1, 2, 3, 4, 5]\n",
        "length = len(numbers)\n",
        "print(\"Length:\", length)\n",
        "\n",
        "\n",
        "# User-defined method example\n",
        "def greet(name):\n",
        "    print(\"Hello, \" + name)\n",
        "\n",
        "\n",
        "greet(\"Mary\")"
      ],
      "metadata": {
        "colab": {
          "base_uri": "https://localhost:8080/"
        },
        "id": "0WWU1HG1vHt3",
        "outputId": "94fddef3-9950-4bf1-9dd1-577a5f354621"
      },
      "execution_count": 9,
      "outputs": [
        {
          "output_type": "stream",
          "name": "stdout",
          "text": [
            "Length: 5\n",
            "Hello, Mary\n"
          ]
        }
      ]
    },
    {
      "cell_type": "code",
      "source": [
        "# Variables and methods\n",
        "age = 35 #int\n",
        "name = \"Harry\" #string\n",
        "gpa = 3.7 #float\n",
        "\n",
        "print(int(age))\n",
        "print(int(35.1))\n",
        "print(int(35.9)) #Will it round? No!\n",
        "\n",
        "quote = \"All is fair in love and war.\"\n",
        "print(quote)\n",
        "\n",
        "print(quote.upper()) #uppercase\n",
        "print(quote.lower()) #lowercase\n",
        "print(quote.title()) #title case\n",
        "print(len(quote)) #count characters\n",
        "\n",
        "print(\"My name is \"+name+\" and I am \"+str(age)+\" years old.\")\n",
        "\n",
        "age += 1\n",
        "print(age)\n",
        "\n",
        "birthday = 1\n",
        "age += birthday\n",
        "print(age)"
      ],
      "metadata": {
        "colab": {
          "base_uri": "https://localhost:8080/"
        },
        "id": "VWWfnmN2vind",
        "outputId": "c04b0508-c1cd-408e-c201-7eda9cd19267"
      },
      "execution_count": 16,
      "outputs": [
        {
          "output_type": "stream",
          "name": "stdout",
          "text": [
            "35\n",
            "35\n",
            "35\n",
            "All is fair in love and war.\n",
            "ALL IS FAIR IN LOVE AND WAR.\n",
            "all is fair in love and war.\n",
            "All Is Fair In Love And War.\n",
            "28\n",
            "My name is Harry and I am 35 years old.\n",
            "36\n",
            "37\n"
          ]
        }
      ]
    },
    {
      "cell_type": "code",
      "source": [
        "name = input(\"Enter your name: \")\n",
        "print(\"Hello, \" + name + \"!\")"
      ],
      "metadata": {
        "colab": {
          "base_uri": "https://localhost:8080/"
        },
        "id": "JkjLbS-av7ZX",
        "outputId": "b8d187cc-c57e-4b4f-a109-81b48f3d745c"
      },
      "execution_count": 19,
      "outputs": [
        {
          "output_type": "stream",
          "name": "stdout",
          "text": [
            "Enter your name: Pathem\n",
            "Hello, Pathem!\n"
          ]
        }
      ]
    },
    {
      "cell_type": "code",
      "source": [
        "age = input(\"Enter your age: \")\n",
        "age = int(age)  # Convert the input to an integer\n",
        "\n",
        "\n",
        "print(\"You will be \" + str(age + 1) + \" next year.\")"
      ],
      "metadata": {
        "colab": {
          "base_uri": "https://localhost:8080/"
        },
        "id": "l1sx6EnOwBsL",
        "outputId": "fa2a9505-348f-4917-faa5-b6def36fdc4b"
      },
      "execution_count": 18,
      "outputs": [
        {
          "output_type": "stream",
          "name": "stdout",
          "text": [
            "Enter your age: 35\n",
            "You will be 36 next year.\n"
          ]
        }
      ]
    },
    {
      "cell_type": "code",
      "source": [
        "def who_am_i(name,age):\n",
        "  name=\"Pathem\"\n",
        "  age=30\n",
        "  print(f\"My name is {name} and I am {age} years old.\")\n",
        "\n",
        "def who_am_i(name,age):\n",
        "  name=\"Pathem\"\n",
        "  age=30\n",
        "  print(f\"My name is {name} and I am {age} years old.\")"
      ],
      "metadata": {
        "id": "5ljl_-bsvq6H"
      },
      "execution_count": 21,
      "outputs": []
    },
    {
      "cell_type": "markdown",
      "source": [
        "\n",
        "who_am_i(\"Pathem\",35)\n",
        "\n",
        "def add_one_hundred(num)\n",
        "  print(num+100)\n",
        "\n",
        "\n",
        "\n"
      ],
      "metadata": {
        "id": "fQb8e5Akprdr"
      }
    },
    {
      "cell_type": "code",
      "source": [
        "def greet():\n",
        "    print(\"Hello, World!\")"
      ],
      "metadata": {
        "id": "VYUI70BwwY55"
      },
      "execution_count": 22,
      "outputs": []
    },
    {
      "cell_type": "code",
      "source": [
        "def greet(name):\n",
        "    print(\"Hello, \" + name + \"!\")\n",
        "\n",
        "\n",
        "greet(\"Moonlight\")"
      ],
      "metadata": {
        "colab": {
          "base_uri": "https://localhost:8080/"
        },
        "id": "V9wJ18P0whKw",
        "outputId": "a3a2e957-3629-48ab-cbc0-d2d38e525919"
      },
      "execution_count": 24,
      "outputs": [
        {
          "output_type": "stream",
          "name": "stdout",
          "text": [
            "Hello, Moonlight!\n"
          ]
        }
      ]
    },
    {
      "cell_type": "code",
      "source": [
        "def add_numbers(a, b):\n",
        "    return a + b\n",
        "\n",
        "\n",
        "result = add_numbers(3, 4)\n",
        "print(result)  # Output: 7"
      ],
      "metadata": {
        "colab": {
          "base_uri": "https://localhost:8080/"
        },
        "id": "TaHXDa-wwnNI",
        "outputId": "b3987a70-47b3-4336-f439-08c189bbc4e0"
      },
      "execution_count": 25,
      "outputs": [
        {
          "output_type": "stream",
          "name": "stdout",
          "text": [
            "7\n"
          ]
        }
      ]
    },
    {
      "cell_type": "code",
      "source": [
        "#Functions - Reusable block of code (like a program)\n",
        "\n",
        "def who_am_i(name,age):\n",
        "    print(f\"My name is {name} and I am {age} years old\")\n",
        "\n",
        "who_am_i(\"Moonlight\",35)\n",
        "\n",
        "def add_one_hundred(num):\n",
        "    print(num + 100)\n",
        "\n",
        "add_one_hundred(100)\n",
        "\n",
        "def add(x,y):\n",
        "    print(x + y)\n",
        "\n",
        "add(7,7)\n",
        "\n",
        "def multiply(x,y):\n",
        "    return x * y\n",
        "\n",
        "result1 = multiply(7,7)\n",
        "result2 = multiply(8,8)\n",
        "print(result1 + result2)\n",
        "\n",
        "def square_root(x):\n",
        "    print(x ** .5)\n",
        "\n",
        "square_root(64)\n",
        "\n",
        "def nl(): #new line\n",
        "    print('\\n')\n",
        "\n",
        "nl()"
      ],
      "metadata": {
        "colab": {
          "base_uri": "https://localhost:8080/"
        },
        "id": "BFr6WfkAwrsg",
        "outputId": "6a187f3d-5e16-40f0-b426-59bdefdced61"
      },
      "execution_count": 26,
      "outputs": [
        {
          "output_type": "stream",
          "name": "stdout",
          "text": [
            "My name is Moonlight and I am 35 years old\n",
            "200\n",
            "14\n",
            "113\n",
            "8.0\n",
            "\n",
            "\n"
          ]
        }
      ]
    },
    {
      "cell_type": "markdown",
      "source": [
        "Boolean Expressions and Relational Operators"
      ],
      "metadata": {
        "id": "FT-AsdkNw4dx"
      }
    },
    {
      "cell_type": "code",
      "source": [
        "x = 5\n",
        "y = 10\n",
        "\n",
        "\n",
        "# Relational operators\n",
        "print(x == y)   # Output: False\n",
        "print(x < y)    # Output: True\n",
        "\n",
        "\n",
        "# Boolean expressions\n",
        "print(x < y and y > 0)    # Output: True\n",
        "print(x < y or y < 0)     # Output: True\n",
        "print(not (x == y))       # Output: True"
      ],
      "metadata": {
        "colab": {
          "base_uri": "https://localhost:8080/"
        },
        "id": "GV5dK3xBw5PW",
        "outputId": "c7d6fe3c-3776-45a9-f914-9817c87cb81a"
      },
      "execution_count": 27,
      "outputs": [
        {
          "output_type": "stream",
          "name": "stdout",
          "text": [
            "False\n",
            "True\n",
            "True\n",
            "True\n",
            "True\n"
          ]
        }
      ]
    },
    {
      "cell_type": "code",
      "source": [
        "print(\"Boolean expressions:\")\n",
        "\n",
        "bool1 = True\n",
        "bool2 = 6*6 == 36\n",
        "bool3 = False\n",
        "bool4 = 6*6 != 36\n",
        "\n",
        "print(bool1,bool2,bool3,bool4)\n",
        "print(type(bool1))\n",
        "\n",
        "bool5 = \"True\"\n",
        "print(type(bool5))\n",
        "\n",
        "nl()\n",
        "\n",
        "#Relational and Boolean operators\n",
        "greater_than = 8 > 6\n",
        "less_than = 6 < 7\n",
        "greater_than_equal_to = 7 >=7\n",
        "less_than_equal_to = 7 <= 7\n",
        "\n",
        "test_and = True and True #True\n",
        "test_and2 = True and False #False\n",
        "test_or = True or True #True\n",
        "test_or2 = True or False #True\n",
        "\n",
        "test_not = not True #False"
      ],
      "metadata": {
        "colab": {
          "base_uri": "https://localhost:8080/"
        },
        "id": "5Y1suyY2w9pm",
        "outputId": "1e340761-492f-4a33-be41-fd6c2c5b8a20"
      },
      "execution_count": 33,
      "outputs": [
        {
          "output_type": "stream",
          "name": "stdout",
          "text": [
            "Boolean expressions:\n",
            "True True False False\n",
            "<class 'bool'>\n",
            "<class 'str'>\n",
            "\n",
            "\n"
          ]
        }
      ]
    },
    {
      "cell_type": "markdown",
      "source": [
        "Conditional Statements"
      ],
      "metadata": {
        "id": "ix03mx89xFFE"
      }
    },
    {
      "cell_type": "code",
      "source": [
        "x = 8\n",
        "if x > 0:\n",
        "    print(\"x is positive\")\n",
        "elif x < 0:\n",
        "    print(\"x is negative\")\n",
        "else:\n",
        "    print(\"x is zero\")"
      ],
      "metadata": {
        "colab": {
          "base_uri": "https://localhost:8080/"
        },
        "id": "yBmOwrMPxGM5",
        "outputId": "95fd3dad-436e-40ff-e933-57aab71521ec"
      },
      "execution_count": 34,
      "outputs": [
        {
          "output_type": "stream",
          "name": "stdout",
          "text": [
            "x is positive\n"
          ]
        }
      ]
    },
    {
      "cell_type": "markdown",
      "source": [
        "Loops"
      ],
      "metadata": {
        "id": "2cn-2eXaxteT"
      }
    },
    {
      "cell_type": "code",
      "source": [
        "vegetables = [\"domato\", \"patato\", \"onion\"]\n",
        "for vegetable in vegetables:\n",
        "    print(vegetable)"
      ],
      "metadata": {
        "colab": {
          "base_uri": "https://localhost:8080/"
        },
        "id": "WLcS0uenxc44",
        "outputId": "29f2a153-4326-4874-c606-9bfdb5750455"
      },
      "execution_count": 36,
      "outputs": [
        {
          "output_type": "stream",
          "name": "stdout",
          "text": [
            "domato\n",
            "patato\n",
            "onion\n"
          ]
        }
      ]
    },
    {
      "cell_type": "code",
      "source": [
        "for i in range(5):\n",
        "    print(i)\n",
        "\n",
        "word = \"Python\"\n",
        "for letter in word:\n",
        "    print(letter)\n",
        "\n",
        "# While loops - execute as long as True\n",
        "i = 1\n",
        "\n",
        "while i < 10:\n",
        "    print(i)\n",
        "    i += 1"
      ],
      "metadata": {
        "colab": {
          "base_uri": "https://localhost:8080/"
        },
        "id": "4QDuGtEGyIET",
        "outputId": "d93c58fb-27f7-4a55-aee0-e171319259c4"
      },
      "execution_count": 37,
      "outputs": [
        {
          "output_type": "stream",
          "name": "stdout",
          "text": [
            "0\n",
            "1\n",
            "2\n",
            "3\n",
            "4\n",
            "P\n",
            "y\n",
            "t\n",
            "h\n",
            "o\n",
            "n\n",
            "1\n",
            "2\n",
            "3\n",
            "4\n",
            "5\n",
            "6\n",
            "7\n",
            "8\n",
            "9\n"
          ]
        }
      ]
    },
    {
      "cell_type": "markdown",
      "source": [
        "Building a Basic Calculator"
      ],
      "metadata": {
        "id": "DuhYGHKFyMK5"
      }
    },
    {
      "cell_type": "code",
      "source": [
        "x = float(input(\"Give me a number: \"))\n",
        "o = input(\"Give me an operator: \")\n",
        "y = float(input(\"Give me yet another number: \"))\n",
        "\n",
        "if o == \"+\":\n",
        "    print(x + y)\n",
        "elif o == \"-\":\n",
        "    print(x - y)\n",
        "elif o == \"/\":\n",
        "    print(x / y)\n",
        "elif o == \"*\":\n",
        "    print(x * y)\n",
        "elif o == \"**\" or o == \"^\":\n",
        "    print(x ** y)\n",
        "else:\n",
        "    print(\"Unknown operator.\")"
      ],
      "metadata": {
        "colab": {
          "base_uri": "https://localhost:8080/"
        },
        "id": "ITnECknlyMot",
        "outputId": "4fa6e028-07ca-4809-ca48-031a29ccee38"
      },
      "execution_count": 39,
      "outputs": [
        {
          "output_type": "stream",
          "name": "stdout",
          "text": [
            "Give me a number: 8\n",
            "Give me an operator: *\n",
            "Give me yet another number: 9\n",
            "72.0\n"
          ]
        }
      ]
    },
    {
      "cell_type": "markdown",
      "source": [
        "Lists\n"
      ],
      "metadata": {
        "id": "ISinVsrbykBi"
      }
    },
    {
      "cell_type": "code",
      "source": [
        "colors = [\"pink\", \"blue\", \"green\"]\n",
        "print(colors[0])    # Output: \"pink\"\n",
        "print(colors[2])    # Output: \"green\""
      ],
      "metadata": {
        "colab": {
          "base_uri": "https://localhost:8080/"
        },
        "id": "U_R9Yt03yk8N",
        "outputId": "e99f8e29-8779-464e-b2e0-9c041e6bb2de"
      },
      "execution_count": 42,
      "outputs": [
        {
          "output_type": "stream",
          "name": "stdout",
          "text": [
            "pink\n",
            "green\n"
          ]
        }
      ]
    },
    {
      "cell_type": "code",
      "source": [
        "colors = [\"pink\", \"blue\", \"green\"]\n",
        "colors2 = [\"grey\", \"black\"]\n",
        "\n",
        "\n",
        "combined =colors + colors2\n",
        "print(combined)         # Output: [\"pink\", \"blue\", \"green\", \"grey\", \"black\"]\n",
        "\n",
        "\n",
        "print(len(colors))      # Output: 3\n",
        "\n",
        "\n",
        "sublist = colors[1:3]\n",
        "print(sublist)          # Output: [\"blue\", \"grey\"]\n",
        "\n",
        "\n",
        "for color in colors:\n",
        "    print(color)        # Output: \"pink\", \"blue\", \"green\""
      ],
      "metadata": {
        "colab": {
          "base_uri": "https://localhost:8080/"
        },
        "id": "NpVXIKyAzAQ5",
        "outputId": "42b9ae90-1804-4f50-91e7-f436ed1fffc6"
      },
      "execution_count": 43,
      "outputs": [
        {
          "output_type": "stream",
          "name": "stdout",
          "text": [
            "['pink', 'blue', 'green', 'grey', 'black']\n",
            "3\n",
            "['blue', 'green']\n",
            "pink\n",
            "blue\n",
            "green\n"
          ]
        }
      ]
    },
    {
      "cell_type": "markdown",
      "source": [
        "Lists - Have brackets [] - everything inside is called an **item** **kalın metin** **kalın metin**"
      ],
      "metadata": {
        "id": "2_4n8NI0z1-n"
      }
    },
    {
      "cell_type": "code",
      "source": [
        "\n",
        "\n",
        "movies = [\"When Harry Met Sally\", \"The Hangover\", \"The Perks of Being a Wallflower\", \"The Exorcist\"]\n",
        "\n",
        "print(movies[1]) #return the second item in the list - index\n",
        "print(movies[0]) #return the first item in the list\n",
        "print(movies[1:3]) #returns the first number given until right before the last number given\n",
        "print(movies[1:4]) #returns 1-3\n",
        "print(movies[1:]) #return 1-end\n",
        "print(movies[:1]) #everything before 1\n",
        "print(movies[:2])\n",
        "print(movies[-1]) #grabs last item\n",
        "\n",
        "print(len(movies)) #count the items in the list\n",
        "movies.append(\"JAWS\") #add an item to the end of our list\n",
        "print(movies)\n",
        "\n",
        "movies.insert(2, \"Hustle\")\n",
        "print(movies)\n",
        "\n",
        "movies.pop() #removes the last item\n",
        "print(movies)\n",
        "\n",
        "movies.pop(0) #remove the first item\n",
        "print(movies)\n",
        "\n",
        "amber_movies = ['Just Go With It', '50 First Dates']\n",
        "our_favorite_movies = movies + amber_movies #combine lists\n",
        "print(our_favorite_movies)\n",
        "\n",
        "grades = [[\"Bob\", 82], [\"Alice\", 90], [\"Jeff\", 73]]\n",
        "bobs_grade = grades[0][1]\n",
        "print(bobs_grade)\n",
        "grades[0][1] = 83\n",
        "print(grades)\n",
        "\n",
        "nested_list = [[1, 2, 3], [4, 5, 6], [7, 8, 9]]\n",
        "print(nested_list[1][2])"
      ],
      "metadata": {
        "colab": {
          "base_uri": "https://localhost:8080/"
        },
        "id": "ymWL6xwMzxX3",
        "outputId": "c5853ec7-c809-4f06-d233-46f6ff321b66"
      },
      "execution_count": 46,
      "outputs": [
        {
          "output_type": "stream",
          "name": "stdout",
          "text": [
            "The Hangover\n",
            "When Harry Met Sally\n",
            "['The Hangover', 'The Perks of Being a Wallflower']\n",
            "['The Hangover', 'The Perks of Being a Wallflower', 'The Exorcist']\n",
            "['The Hangover', 'The Perks of Being a Wallflower', 'The Exorcist']\n",
            "['When Harry Met Sally']\n",
            "['When Harry Met Sally', 'The Hangover']\n",
            "The Exorcist\n",
            "4\n",
            "['When Harry Met Sally', 'The Hangover', 'The Perks of Being a Wallflower', 'The Exorcist', 'JAWS']\n",
            "['When Harry Met Sally', 'The Hangover', 'Hustle', 'The Perks of Being a Wallflower', 'The Exorcist', 'JAWS']\n",
            "['When Harry Met Sally', 'The Hangover', 'Hustle', 'The Perks of Being a Wallflower', 'The Exorcist']\n",
            "['The Hangover', 'Hustle', 'The Perks of Being a Wallflower', 'The Exorcist']\n",
            "['The Hangover', 'Hustle', 'The Perks of Being a Wallflower', 'The Exorcist', 'Just Go With It', '50 First Dates']\n",
            "82\n",
            "[['Bob', 83], ['Alice', 90], ['Jeff', 73]]\n",
            "6\n"
          ]
        }
      ]
    },
    {
      "cell_type": "markdown",
      "source": [
        "Importing Modules"
      ],
      "metadata": {
        "id": "ViJ2edZ10drh"
      }
    },
    {
      "cell_type": "code",
      "source": [
        "import math\n",
        "\n",
        "\n",
        "result = math.sqrt(25)\n",
        "print(result)   # Output: 5.0"
      ],
      "metadata": {
        "colab": {
          "base_uri": "https://localhost:8080/"
        },
        "id": "rxTCegsX0bZ6",
        "outputId": "0225442f-3438-44a5-fba9-f8d1fe4db600"
      },
      "execution_count": 47,
      "outputs": [
        {
          "output_type": "stream",
          "name": "stdout",
          "text": [
            "5.0\n"
          ]
        }
      ]
    },
    {
      "cell_type": "code",
      "source": [
        "import math as m\n",
        "\n",
        "\n",
        "result = m.sqrt(25)\n",
        "print(result)   # Output: 5.0"
      ],
      "metadata": {
        "colab": {
          "base_uri": "https://localhost:8080/"
        },
        "id": "lQfNSfa90c0O",
        "outputId": "81e17def-1526-4567-b58f-e6b87a73fe13"
      },
      "execution_count": 48,
      "outputs": [
        {
          "output_type": "stream",
          "name": "stdout",
          "text": [
            "5.0\n"
          ]
        }
      ]
    },
    {
      "cell_type": "code",
      "source": [
        "#IMPORTING - Importing is important.\n",
        "import sys #system functions and parameters\n",
        "from datetime import datetime as dt #import with alias\n",
        "\n",
        "print(sys.version)\n",
        "print(dt.now())"
      ],
      "metadata": {
        "colab": {
          "base_uri": "https://localhost:8080/"
        },
        "id": "mSIgsKVX0lbp",
        "outputId": "c894dba4-2c7b-4ffc-ba73-47b4549fb3c9"
      },
      "execution_count": 49,
      "outputs": [
        {
          "output_type": "stream",
          "name": "stdout",
          "text": [
            "3.11.11 (main, Dec  4 2024, 08:55:07) [GCC 11.4.0]\n",
            "2025-02-05 15:55:11.350165\n"
          ]
        }
      ]
    }
  ]
}