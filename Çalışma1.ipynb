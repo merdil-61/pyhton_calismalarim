{
  "nbformat": 4,
  "nbformat_minor": 0,
  "metadata": {
    "colab": {
      "provenance": []
    },
    "kernelspec": {
      "name": "python3",
      "display_name": "Python 3"
    },
    "language_info": {
      "name": "python"
    }
  },
  "cells": [
    {
      "cell_type": "markdown",
      "source": [
        "**VERİ YAPILARI VE ALGORİTMALAR**"
      ],
      "metadata": {
        "id": "yWR-SBNcrgSB"
      }
    },
    {
      "cell_type": "markdown",
      "source": [
        "**Python Programlama dilindeki Değişkenler ve Veri Türleri**"
      ],
      "metadata": {
        "id": "-00mOOIErJgZ"
      }
    },
    {
      "cell_type": "code",
      "execution_count": null,
      "metadata": {
        "colab": {
          "base_uri": "https://localhost:8080/"
        },
        "id": "IKO_aC16pI7z",
        "outputId": "606d2e6f-9d10-4c5f-d595-7835c7c9f872"
      },
      "outputs": [
        {
          "output_type": "stream",
          "name": "stdout",
          "text": [
            "Merhaba, Pyhton veri yapıları ve algoritmalar\n"
          ]
        }
      ],
      "source": [
        "print(\"Merhaba, Pyhton veri yapıları ve algoritmalar\")"
      ]
    },
    {
      "cell_type": "code",
      "source": [
        "import sys\n",
        "print(sys.version)"
      ],
      "metadata": {
        "colab": {
          "base_uri": "https://localhost:8080/"
        },
        "id": "sY2xP8ucpTE-",
        "outputId": "12e68ea7-1c7c-43f5-ef0c-679ed5e369f3"
      },
      "execution_count": null,
      "outputs": [
        {
          "output_type": "stream",
          "name": "stdout",
          "text": [
            "3.11.11 (main, Dec  4 2024, 08:55:07) [GCC 11.4.0]\n"
          ]
        }
      ]
    },
    {
      "cell_type": "code",
      "source": [
        "from google.colab import drive\n",
        "drive.mount('/content/drive')"
      ],
      "metadata": {
        "colab": {
          "base_uri": "https://localhost:8080/"
        },
        "id": "AAiVOgONpW1H",
        "outputId": "26841ab9-0463-46a2-c6be-92a339455c66"
      },
      "execution_count": null,
      "outputs": [
        {
          "output_type": "stream",
          "name": "stdout",
          "text": [
            "Mounted at /content/drive\n"
          ]
        }
      ]
    },
    {
      "cell_type": "code",
      "source": [
        "import os\n",
        "os.chdir('/content/drive/My Drive/veri_algoritmaları/veri_algoritmaları')\n",
        "!pwd"
      ],
      "metadata": {
        "colab": {
          "base_uri": "https://localhost:8080/"
        },
        "id": "BjhHscERpaYX",
        "outputId": "aef3f386-1b78-422d-f10b-532e73678cb7"
      },
      "execution_count": null,
      "outputs": [
        {
          "output_type": "stream",
          "name": "stdout",
          "text": [
            "/content/drive/My Drive/veri_algoritmaları/veri_algoritmaları\n"
          ]
        }
      ]
    },
    {
      "cell_type": "markdown",
      "source": [
        "VERİ TİPLERİ\n",
        "\n",
        "1.Integer--tam sayı tanımlama\n",
        "\n",
        "2.Float--ondalık sayı tanımlama\n",
        "\n",
        "3.String--metinsel içerik tanımlama\n",
        "\n",
        "4.Booelan--True/false(doğru/yanlış) tanımlama\n",
        "\n",
        "5.List (dizi)--Liste tanımlaması\n",
        "\n",
        "6.Tuple--demet tanımlaması\n",
        "\n",
        "7.Dictionary--sözlük tanımlaması\n",
        "\n",
        "8.Set--Küme tanımlaması\n",
        "\n",
        "\n",
        "--Dikkat edilecek özellikler--\n",
        "\n",
        "Büyük küçük harf duyarlılığı\n",
        "\n",
        "Türkçe harf kullanmama kod yazılımında\n",
        "\n",
        "Özel karakter kesinlikle eklenmemeli\n",
        "\n",
        "Değişken isimleri arasında boşluk olmamalı\n",
        "\n",
        "\n",
        "---Python programlama dili temelinde kullanılan fonksiyonlar---\n",
        "\n",
        "1) len()--bir değişkenin uzunluğu\n",
        "\n",
        "2) type()--bir değişkenin veri tipi\n",
        "\n",
        "3) print()--ekrana yazdırma\n",
        "\n",
        "4) capitalized()--bir kelimede ilk harfi büyük yapar diğerleri küçük harfle devam eder.\n",
        "\n",
        "5) split()--ayıraca göre böler\n",
        "\n",
        "6) upper()--kelimelerin tümü büyük olur.\n",
        "\n",
        "7) input()--kullanılcak veri almak\n",
        "\n",
        "8) float()--ondalık sayıya dönüştürme\n",
        "\n",
        "9) int()--tam sayıya dönüştürme\n",
        "\n",
        "10) abs()--mutlak değer alma fonksiyonu\n",
        "\n"
      ],
      "metadata": {
        "id": "7fgKndELsSFJ"
      }
    },
    {
      "cell_type": "code",
      "source": [
        "#Geçerli bir değişken tanımlama\n",
        "\n",
        "degisken1=10\n",
        "\n",
        "Degisken2=20\n",
        "\n",
        "degisken_3=30\n",
        "\n",
        "_degisken_4=40\n",
        "\n",
        "print(degisken1)\n",
        "print(Degisken2)\n",
        "print(degisken_3)\n",
        "print(_degisken_4)"
      ],
      "metadata": {
        "colab": {
          "base_uri": "https://localhost:8080/"
        },
        "id": "Tw1imWgpquBj",
        "outputId": "08345fc2-a589-4f09-c07b-9e3286c95150"
      },
      "execution_count": null,
      "outputs": [
        {
          "output_type": "stream",
          "name": "stdout",
          "text": [
            "10\n",
            "20\n",
            "30\n",
            "40\n"
          ]
        }
      ]
    },
    {
      "cell_type": "code",
      "source": [
        "#Geçersiz değişken tanımlaması\n",
        "\n",
        "1degisken=50\n",
        "\n",
        "degisken1-4=50\n",
        "\n"
      ],
      "metadata": {
        "colab": {
          "base_uri": "https://localhost:8080/",
          "height": 106
        },
        "id": "Ngt1qYF9wVbi",
        "outputId": "f8bcb1df-e9e2-4355-d935-b3ae2cc7f1b4"
      },
      "execution_count": null,
      "outputs": [
        {
          "output_type": "error",
          "ename": "SyntaxError",
          "evalue": "invalid decimal literal (<ipython-input-12-f1b5912f9270>, line 3)",
          "traceback": [
            "\u001b[0;36m  File \u001b[0;32m\"<ipython-input-12-f1b5912f9270>\"\u001b[0;36m, line \u001b[0;32m3\u001b[0m\n\u001b[0;31m    1degisken=50\u001b[0m\n\u001b[0m    ^\u001b[0m\n\u001b[0;31mSyntaxError\u001b[0m\u001b[0;31m:\u001b[0m invalid decimal literal\n"
          ]
        }
      ]
    },
    {
      "cell_type": "code",
      "source": [
        "x=5\n",
        "\n",
        "y=\"Merhaba Dünya\"\n",
        "\n",
        "print(x)\n",
        "\n",
        "print(y)"
      ],
      "metadata": {
        "colab": {
          "base_uri": "https://localhost:8080/"
        },
        "id": "bGepZeF9wtxW",
        "outputId": "fc4f5525-a571-49e1-bd51-116dd568beda"
      },
      "execution_count": null,
      "outputs": [
        {
          "output_type": "stream",
          "name": "stdout",
          "text": [
            "5\n",
            "Merhaba Dünya\n"
          ]
        }
      ]
    },
    {
      "cell_type": "code",
      "source": [
        "a=10\n",
        "\n",
        "print(type(a))"
      ],
      "metadata": {
        "colab": {
          "base_uri": "https://localhost:8080/"
        },
        "id": "an5P9TGwxA0O",
        "outputId": "94331fdb-c701-42b1-e078-b3aed9d7917b"
      },
      "execution_count": null,
      "outputs": [
        {
          "output_type": "stream",
          "name": "stdout",
          "text": [
            "<class 'int'>\n"
          ]
        }
      ]
    },
    {
      "cell_type": "code",
      "source": [
        "b=20.5\n",
        "\n",
        "print(type(b))"
      ],
      "metadata": {
        "colab": {
          "base_uri": "https://localhost:8080/"
        },
        "id": "vWX9u1EoxHsu",
        "outputId": "efd931a8-c8ee-4687-918a-b703d045c089"
      },
      "execution_count": null,
      "outputs": [
        {
          "output_type": "stream",
          "name": "stdout",
          "text": [
            "<class 'float'>\n"
          ]
        }
      ]
    },
    {
      "cell_type": "code",
      "source": [
        "#int veri tipinden floata dönüştürme\n",
        "\n",
        "y=10\n",
        "\n",
        "x=float(y)\n",
        "\n",
        "print(x,type(x))"
      ],
      "metadata": {
        "colab": {
          "base_uri": "https://localhost:8080/"
        },
        "id": "jD0FH8LwxUa1",
        "outputId": "8b7d042a-87b8-45b8-f623-aea973b3ea84"
      },
      "execution_count": null,
      "outputs": [
        {
          "output_type": "stream",
          "name": "stdout",
          "text": [
            "10.0 <class 'float'>\n"
          ]
        }
      ]
    },
    {
      "cell_type": "code",
      "source": [
        "#float veri tipinden int veri tipine çevirme\n",
        "\n",
        "y=10.74\n",
        "\n",
        "x=int(y)\n",
        "\n",
        "print(x, type(x))"
      ],
      "metadata": {
        "colab": {
          "base_uri": "https://localhost:8080/"
        },
        "id": "VcbJe5jQxtGS",
        "outputId": "1df47244-06ba-4c3e-dcf6-f4629b7ebb53"
      },
      "execution_count": null,
      "outputs": [
        {
          "output_type": "stream",
          "name": "stdout",
          "text": [
            "10 <class 'int'>\n"
          ]
        }
      ]
    },
    {
      "cell_type": "code",
      "source": [
        "#String-metinsel bilgiyi değişkene atama işlemi\n",
        "c=\"Python programlama dili\"\n",
        "\n",
        "print(c, type(c))\n",
        "\n"
      ],
      "metadata": {
        "colab": {
          "base_uri": "https://localhost:8080/"
        },
        "id": "tJVjs0AIyDSB",
        "outputId": "f22248be-72f3-4ab7-d1d2-561ea075d7e0"
      },
      "execution_count": null,
      "outputs": [
        {
          "output_type": "stream",
          "name": "stdout",
          "text": [
            "Python programlama dili <class 'str'>\n"
          ]
        }
      ]
    },
    {
      "cell_type": "code",
      "source": [
        "#Boolean (True/doğru--False/yanlış) değişken tanımlaması\n",
        "\n",
        "d=True#1-Aktif\n",
        "e=False#0-Pasif\n",
        "\n",
        "print(d)\n",
        "\n",
        "print(type(e))\n"
      ],
      "metadata": {
        "colab": {
          "base_uri": "https://localhost:8080/"
        },
        "id": "hQmBBRk2yiI8",
        "outputId": "c0335fcf-c247-40be-98e0-2a53a7353e4b"
      },
      "execution_count": null,
      "outputs": [
        {
          "output_type": "stream",
          "name": "stdout",
          "text": [
            "True\n",
            "<class 'bool'>\n"
          ]
        }
      ]
    },
    {
      "cell_type": "code",
      "source": [
        "#Liste-list tanımlaması-->Dizi tanımlaması\n",
        "\n",
        "liste=[1,2,3,4,5]\n",
        "\n",
        "print(type(liste), liste)\n"
      ],
      "metadata": {
        "colab": {
          "base_uri": "https://localhost:8080/"
        },
        "id": "dtce4-PpzP65",
        "outputId": "cd02e62e-2911-4eb4-db7b-9231b2d8c706"
      },
      "execution_count": null,
      "outputs": [
        {
          "output_type": "stream",
          "name": "stdout",
          "text": [
            "<class 'list'> [1, 2, 3, 4, 5]\n"
          ]
        }
      ]
    },
    {
      "cell_type": "code",
      "source": [
        "#Demet-tuple tanımlaması\n",
        "\n",
        "demet=(1,2,3,4,5)\n",
        "print(type(demet),demet)"
      ],
      "metadata": {
        "colab": {
          "base_uri": "https://localhost:8080/"
        },
        "id": "7hD8SJiQzrBm",
        "outputId": "2d267c64-9a85-4f9a-c3f7-39ec15ca6bf5"
      },
      "execution_count": null,
      "outputs": [
        {
          "output_type": "stream",
          "name": "stdout",
          "text": [
            "<class 'tuple'> (1, 2, 3, 4, 5)\n"
          ]
        }
      ]
    },
    {
      "cell_type": "code",
      "source": [
        "#Dictionary-sözlük tanımlaması--Öğrenci notlarını tutan bir sözlük tanımlaması\n",
        "\n",
        "notlar={\n",
        "    \"Ali\":85,\n",
        "    \"Veli\":90,\n",
        "    \"Ayşe\":78\n",
        "}\n",
        "\n",
        "notlar[\"Fatma\"]=95 #Yeni öğrenci ekleme\n",
        "\n",
        "notlar[\"Ali\"]=88 #mevcuttaki öğrencinin notunu güncelleme\n",
        "\n",
        "print(notlar)\n",
        "\n",
        "\n",
        "\n",
        "\n"
      ],
      "metadata": {
        "colab": {
          "base_uri": "https://localhost:8080/"
        },
        "id": "e4Yh1GrW0BOR",
        "outputId": "71e0bb06-5cfb-4aaa-b8cd-88cff61acbc6"
      },
      "execution_count": null,
      "outputs": [
        {
          "output_type": "stream",
          "name": "stdout",
          "text": [
            "{'Ali': 88, 'Veli': 90, 'Ayşe': 78, 'Fatma': 95}\n"
          ]
        }
      ]
    },
    {
      "cell_type": "code",
      "source": [
        "print(notlar.keys())\n",
        "\n",
        "print(notlar.values())\n",
        "\n",
        "print(notlar.items())"
      ],
      "metadata": {
        "colab": {
          "base_uri": "https://localhost:8080/"
        },
        "id": "jVgeyqe21HEf",
        "outputId": "c9de5b26-e3f9-4088-9dd7-11643641eeaf"
      },
      "execution_count": null,
      "outputs": [
        {
          "output_type": "stream",
          "name": "stdout",
          "text": [
            "dict_keys(['Ali', 'Veli', 'Ayşe', 'Fatma'])\n",
            "dict_values([88, 90, 78, 95])\n",
            "dict_items([('Ali', 88), ('Veli', 90), ('Ayşe', 78), ('Fatma', 95)])\n"
          ]
        }
      ]
    },
    {
      "cell_type": "code",
      "source": [
        "#Set küme veri tipi\n",
        "\n",
        "kodyazanlar={\"Ahmet\",\"Mehmet\",\"Ayşe\"}\n",
        "\n",
        "kodyazmayanlar={\"Ayşe\",\"Fatma\",\"Veli\"}\n",
        "\n",
        "ortak=kodyazanlar.intersection(kodyazmayanlar)\n",
        "\n",
        "print(\"Kafasına Göre Takılanlar :\", ortak)\n",
        "\n",
        "kod_yazmayanlar=kodyazmayanlar.difference(kodyazanlar)\n",
        "print(\"Kod calışması yapmayan:\", kod_yazmayanlar)\n",
        "\n",
        "imzalistesi=kodyazanlar.union(kodyazmayanlar)\n",
        "print(\"Sınıf imza listesi: \", imzalistesi)\n",
        "\n"
      ],
      "metadata": {
        "colab": {
          "base_uri": "https://localhost:8080/"
        },
        "id": "RJ2L4-Rt1jwd",
        "outputId": "81395022-e352-4ca8-f579-01870d9a0aae"
      },
      "execution_count": null,
      "outputs": [
        {
          "output_type": "stream",
          "name": "stdout",
          "text": [
            "Kafasına Göre Takılanlar : {'Ayşe'}\n",
            "Kod calışması yapmayan: {'Fatma', 'Veli'}\n",
            "Sınıf imza listesi:  {'Fatma', 'Ayşe', 'Ahmet', 'Mehmet', 'Veli'}\n"
          ]
        }
      ]
    },
    {
      "cell_type": "code",
      "source": [
        "giris=input(\"Bir Sayi Giriniz:\")\n",
        "\n",
        "print(giris)"
      ],
      "metadata": {
        "colab": {
          "base_uri": "https://localhost:8080/"
        },
        "id": "_qklXBa42_27",
        "outputId": "463bb952-403b-41c4-a082-4721962b6291"
      },
      "execution_count": null,
      "outputs": [
        {
          "output_type": "stream",
          "name": "stdout",
          "text": [
            "Bir Sayi Giriniz:2\n",
            "2\n"
          ]
        }
      ]
    },
    {
      "cell_type": "code",
      "source": [
        "giris=input(\"Bir Sayi Giriniz:\")\n",
        "try:\n",
        "  numara=float(giris)\n",
        "  print(\"Girilen sayi:\", numara)\n",
        "except ValueError:\n",
        "  print(\"Hatalı Bilgi Girişi Yaptınız Lütfen Tekrar Deneyiniz!\")"
      ],
      "metadata": {
        "colab": {
          "base_uri": "https://localhost:8080/"
        },
        "id": "PqJr6WaY3ZtB",
        "outputId": "f3355b4d-3812-4d0b-91af-21e23a4b4193"
      },
      "execution_count": null,
      "outputs": [
        {
          "output_type": "stream",
          "name": "stdout",
          "text": [
            "Bir Sayi Giriniz:a\n",
            "Hatalı Bilgi Girişi Yaptınız Lütfen Tekrar Deneyiniz!\n"
          ]
        }
      ]
    },
    {
      "cell_type": "code",
      "source": [
        "import random #random işlemi bize 0 ile 1 arasında rastgele bir sayı üreten kütüphanedir.\n",
        "rastgele=random.random()\n",
        "print(\"Rastgele gelen deger: \", rastgele)"
      ],
      "metadata": {
        "colab": {
          "base_uri": "https://localhost:8080/"
        },
        "id": "qM0CzLvF4ZQs",
        "outputId": "d3546a50-1c66-447d-e3bc-3db2f41095ca"
      },
      "execution_count": null,
      "outputs": [
        {
          "output_type": "stream",
          "name": "stdout",
          "text": [
            "Rastgele gelen deger:  0.1917389317587601\n"
          ]
        }
      ]
    },
    {
      "cell_type": "code",
      "source": [
        "import random\n",
        "rastgele2=random.randint(1,100) #randint fonksiyonu bize istediğimiz aralıkta  rastgele bir sayı üreten kütüphanedir.\n",
        "print(\"Rastgele gelen deger: \", rastgele2)"
      ],
      "metadata": {
        "colab": {
          "base_uri": "https://localhost:8080/"
        },
        "id": "2P7uElik5A3B",
        "outputId": "8b3cd4bf-8ad2-4e86-cec4-38480c04be76"
      },
      "execution_count": null,
      "outputs": [
        {
          "output_type": "stream",
          "name": "stdout",
          "text": [
            "Rastgele gelen deger:  76\n"
          ]
        }
      ]
    }
  ]
}