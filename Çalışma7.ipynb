{
  "nbformat": 4,
  "nbformat_minor": 0,
  "metadata": {
    "colab": {
      "provenance": []
    },
    "kernelspec": {
      "name": "python3",
      "display_name": "Python 3"
    },
    "language_info": {
      "name": "python"
    }
  },
  "cells": [
    {
      "cell_type": "markdown",
      "source": [
        "**VERİ YAPILARI VE ALGORİTMALAR**"
      ],
      "metadata": {
        "id": "yWR-SBNcrgSB"
      }
    },
    {
      "cell_type": "markdown",
      "source": [
        "**Algoritma Geliştirme:Sıralı,koşullu ve tekrarlı yapılar**"
      ],
      "metadata": {
        "id": "-00mOOIErJgZ"
      }
    },
    {
      "cell_type": "code",
      "execution_count": 1,
      "metadata": {
        "colab": {
          "base_uri": "https://localhost:8080/"
        },
        "id": "IKO_aC16pI7z",
        "outputId": "8dee844a-cef1-413d-94ae-02dd79368bcb"
      },
      "outputs": [
        {
          "output_type": "stream",
          "name": "stdout",
          "text": [
            "Merhaba, Algoritma Geliştirme:Sıralı,koşullu ve tekrarlı yapılar\n"
          ]
        }
      ],
      "source": [
        "print(\"Merhaba, Algoritma Geliştirme:Sıralı,koşullu ve tekrarlı yapılar\")"
      ]
    },
    {
      "cell_type": "code",
      "source": [
        "import sys\n",
        "print(sys.version)"
      ],
      "metadata": {
        "colab": {
          "base_uri": "https://localhost:8080/"
        },
        "id": "sY2xP8ucpTE-",
        "outputId": "bc314987-31a5-4ef9-ac16-b3b467b7879a"
      },
      "execution_count": 2,
      "outputs": [
        {
          "output_type": "stream",
          "name": "stdout",
          "text": [
            "3.11.11 (main, Dec  4 2024, 08:55:07) [GCC 11.4.0]\n"
          ]
        }
      ]
    },
    {
      "cell_type": "code",
      "source": [
        "from google.colab import drive\n",
        "drive.mount('/content/drive')"
      ],
      "metadata": {
        "colab": {
          "base_uri": "https://localhost:8080/"
        },
        "id": "AAiVOgONpW1H",
        "outputId": "bc53b613-98c1-4be2-9194-c1819d613880"
      },
      "execution_count": 3,
      "outputs": [
        {
          "output_type": "stream",
          "name": "stdout",
          "text": [
            "Mounted at /content/drive\n"
          ]
        }
      ]
    },
    {
      "cell_type": "code",
      "source": [
        "import os\n",
        "os.chdir('/content/drive/My Drive/veri_algoritmaları/veri_algoritmaları')\n",
        "!pwd"
      ],
      "metadata": {
        "colab": {
          "base_uri": "https://localhost:8080/"
        },
        "id": "BjhHscERpaYX",
        "outputId": "fb683e38-fb52-4015-cd91-ecc0658ba193"
      },
      "execution_count": 4,
      "outputs": [
        {
          "output_type": "stream",
          "name": "stdout",
          "text": [
            "/content/drive/My Drive/veri_algoritmaları/veri_algoritmaları\n"
          ]
        }
      ]
    },
    {
      "cell_type": "markdown",
      "source": [
        "Kullanıcıdan bir sayı alarak bu sayının tek mi çift mi olduğunu hesaplayan programı yazınız."
      ],
      "metadata": {
        "id": "R1o_C0tZ6yeo"
      }
    },
    {
      "cell_type": "code",
      "source": [
        "n=int(input(\"Bir sayı girin:\"))\n",
        "\n",
        "if n % 2 == 0:\n",
        "  print(\"Girilen Sayı:\",n, \"çifttir\")\n",
        "else:\n",
        "  print(\"Girilen Sayı\",n,\"tektir\")"
      ],
      "metadata": {
        "colab": {
          "base_uri": "https://localhost:8080/"
        },
        "id": "1cy04_HY6rsi",
        "outputId": "b066cd76-d5cb-4e50-8e1e-a74bd6762161"
      },
      "execution_count": 10,
      "outputs": [
        {
          "output_type": "stream",
          "name": "stdout",
          "text": [
            "Bir sayı girin:5\n",
            "Girilen Sayı 5 tektir\n"
          ]
        }
      ]
    },
    {
      "cell_type": "markdown",
      "source": [
        "Kullanıcdan bir sayı alarak bu sayının mutlak değerini hesaplayan programın kodunu yazınız."
      ],
      "metadata": {
        "id": "ZGl7hvIj8cox"
      }
    },
    {
      "cell_type": "code",
      "source": [
        "n=float(input(\"Sayı Gir\"))\n",
        "\n",
        "if n<0:\n",
        "  print(\"Girilen Sayı Negatif ve mutlak değer:\",n*(-1),\"'dır.\")\n",
        "else:\n",
        "  print(\"Mutlak Değer:\",n,\"pozitiftir\")"
      ],
      "metadata": {
        "colab": {
          "base_uri": "https://localhost:8080/"
        },
        "id": "zrEnhsZD8X5W",
        "outputId": "7d5031eb-b71f-443c-d383-c43dab65d485"
      },
      "execution_count": 12,
      "outputs": [
        {
          "output_type": "stream",
          "name": "stdout",
          "text": [
            "Sayı Gir-9\n",
            "Girilen Sayı Negatif ve mutlak değer: 9.0 'dır.\n"
          ]
        }
      ]
    },
    {
      "cell_type": "markdown",
      "source": [
        "Kullanıcıdan bir x sayısı ve bir y sayısı alarak x sayısının y sayısına tam bölünüp bölünmediğini hesaplayan programı yazınız."
      ],
      "metadata": {
        "id": "wO4QnNwB9OO3"
      }
    },
    {
      "cell_type": "code",
      "source": [
        "x=int(input(\"İlk sayıyı girin:\"))\n",
        "y=int(input(\"İkinci sayıyı girin:\"))\n",
        "\n",
        "if x% y == 0:\n",
        "  print(\"x sayısı y sayısına tam bölünür\")\n",
        "else:\n",
        "  print(\"x sayısı y sayısına tam bölünmez\")\n"
      ],
      "metadata": {
        "colab": {
          "base_uri": "https://localhost:8080/"
        },
        "id": "st59BO4L9NA2",
        "outputId": "3fa605c8-625c-41ef-b1cf-822ffb8e96b9"
      },
      "execution_count": 14,
      "outputs": [
        {
          "output_type": "stream",
          "name": "stdout",
          "text": [
            "İlk sayıyı girin:12\n",
            "İkinci sayıyı girin:4\n",
            "x sayısı y sayısına tam bölünür\n"
          ]
        }
      ]
    },
    {
      "cell_type": "markdown",
      "source": [
        "Kullanıcıdan bir yıl alarak bu yılın artık yıl olup olmadığını hesaplayan programı yazınız."
      ],
      "metadata": {
        "id": "lG9UwCit-Egy"
      }
    },
    {
      "cell_type": "code",
      "source": [
        "yil = int(input(\"Yıl girin:\"))\n",
        "if yil %4 ==0:\n",
        "  print(\"Girilen yıl:\", yil, \"Artık yıldır\")\n",
        "else:\n",
        "  print(\"Girilen yıl\", yil, \"Artık yıl değildir\")\n"
      ],
      "metadata": {
        "colab": {
          "base_uri": "https://localhost:8080/"
        },
        "id": "S0FVnpzA-OpS",
        "outputId": "108fc7b0-936e-4e16-9c68-40fb62fff0fb"
      },
      "execution_count": 17,
      "outputs": [
        {
          "output_type": "stream",
          "name": "stdout",
          "text": [
            "Yıl girin:2025\n",
            "Girilen yıl 2025 Artık yıl değildir\n"
          ]
        }
      ]
    },
    {
      "cell_type": "markdown",
      "source": [
        "1 ile 100 arasındaki tam kare sayıları while döngüsü kullanarak bulan programı yazınız."
      ],
      "metadata": {
        "id": "93gTviEu_GEh"
      }
    },
    {
      "cell_type": "code",
      "source": [
        "sayi=1\n",
        "\n",
        "while sayi <=100:\n",
        "  karekök=int(sayi**0.5)\n",
        "  if karekök**2 == sayi:\n",
        "    print(sayi)\n",
        "  sayi+=1"
      ],
      "metadata": {
        "colab": {
          "base_uri": "https://localhost:8080/"
        },
        "id": "3gnJq1N3_RCq",
        "outputId": "33c09ced-8110-47fb-c37a-6a5a13b41f93"
      },
      "execution_count": 19,
      "outputs": [
        {
          "output_type": "stream",
          "name": "stdout",
          "text": [
            "1\n",
            "4\n",
            "9\n",
            "16\n",
            "25\n",
            "36\n",
            "49\n",
            "64\n",
            "81\n",
            "100\n"
          ]
        }
      ]
    },
    {
      "cell_type": "markdown",
      "source": [
        "10 ile 100 arasındaki tam kare sayıları while döngüsü kullanarak bulan programı yazınız."
      ],
      "metadata": {
        "id": "WLywFDnE_vx1"
      }
    },
    {
      "cell_type": "code",
      "source": [
        "sayac = 4\n",
        "degisken = 0\n",
        "\n",
        "while sayac*sayac <=100:\n",
        "  tam_kare=sayac*sayac\n",
        "  if 10<=tam_kare<=100:\n",
        "    print(tam_kare)\n",
        "    degisken+=1\n",
        "  sayac+=1\n",
        "\n",
        "print(\"Sayı Adedi:\", degisken)"
      ],
      "metadata": {
        "colab": {
          "base_uri": "https://localhost:8080/"
        },
        "id": "8m4YXNd0_wVF",
        "outputId": "66871777-cb43-4c3c-bf9c-749ab17378c1"
      },
      "execution_count": 28,
      "outputs": [
        {
          "output_type": "stream",
          "name": "stdout",
          "text": [
            "16\n",
            "25\n",
            "36\n",
            "49\n",
            "64\n",
            "81\n",
            "100\n",
            "Sayı Adedi: 7\n"
          ]
        }
      ]
    },
    {
      "cell_type": "markdown",
      "source": [
        "10 ile 100 arasındaki tam kare sayıları for yapısı kullanarak bulan programı yazınız."
      ],
      "metadata": {
        "id": "WWn-zqtxBfeT"
      }
    },
    {
      "cell_type": "code",
      "source": [
        "degisken = 0\n",
        "\n",
        "for sayac in range(1,11):\n",
        "  tam_kare=sayac*sayac\n",
        "  if 10<=tam_kare<=100:\n",
        "    print(tam_kare)\n",
        "    degisken+=1\n",
        "\n",
        "\n",
        "print(\"Sayı Adedi:\", degisken)"
      ],
      "metadata": {
        "colab": {
          "base_uri": "https://localhost:8080/"
        },
        "id": "tYBMQlG0BpCv",
        "outputId": "88b5ca94-b037-4691-dde3-57bccdff5844"
      },
      "execution_count": 31,
      "outputs": [
        {
          "output_type": "stream",
          "name": "stdout",
          "text": [
            "16\n",
            "25\n",
            "36\n",
            "49\n",
            "64\n",
            "81\n",
            "100\n",
            "Sayı Adedi: 7\n"
          ]
        }
      ]
    },
    {
      "cell_type": "code",
      "source": [
        "print(\"Programdan çıkmak için 0 girebilirsiniz\")\n",
        "toplam=0\n",
        "s=0 #adet\n",
        "while True:\n",
        "  sayi=int(input(\"Bir sayı girin:\"))\n",
        "\n",
        "  if sayi==0:\n",
        "    break\n",
        "\n",
        "  toplam+=sayi\n",
        "  s+=1\n",
        "if s==0:\n",
        "  print(\"Hiç sayı girişi yapmadınız!\")\n",
        "else:\n",
        "  ortalama=toplam/s\n",
        "  print(s,\"adet sayı girildi\")\n",
        "  print(\"Toplam:\",toplam)\n",
        "  print(\"Ortalama:\",ortalama)"
      ],
      "metadata": {
        "colab": {
          "base_uri": "https://localhost:8080/"
        },
        "id": "qnXKTw9-ClPC",
        "outputId": "b7cfbe71-1007-4106-9b65-9e3b88f4fd82"
      },
      "execution_count": 34,
      "outputs": [
        {
          "output_type": "stream",
          "name": "stdout",
          "text": [
            "Programdan çıkmak için 0 girebilirsiniz\n",
            "Bir sayı girin:7\n",
            "Bir sayı girin:70\n",
            "Bir sayı girin:80\n",
            "Bir sayı girin:0\n",
            "3 adet sayı girildi\n",
            "Toplam: 157\n",
            "Ortalama: 52.333333333333336\n"
          ]
        }
      ]
    }
  ]
}