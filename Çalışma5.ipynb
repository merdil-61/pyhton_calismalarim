{
  "nbformat": 4,
  "nbformat_minor": 0,
  "metadata": {
    "colab": {
      "provenance": []
    },
    "kernelspec": {
      "name": "python3",
      "display_name": "Python 3"
    },
    "language_info": {
      "name": "python"
    }
  },
  "cells": [
    {
      "cell_type": "markdown",
      "source": [
        "**VERİ YAPILARI VE ALGORİTMALAR**"
      ],
      "metadata": {
        "id": "yWR-SBNcrgSB"
      }
    },
    {
      "cell_type": "markdown",
      "source": [
        "**Python programlama dili üzerinde koşul yapıları**"
      ],
      "metadata": {
        "id": "-00mOOIErJgZ"
      }
    },
    {
      "cell_type": "code",
      "execution_count": null,
      "metadata": {
        "colab": {
          "base_uri": "https://localhost:8080/"
        },
        "id": "IKO_aC16pI7z",
        "outputId": "8e125c62-0b6e-4c37-b102-c0e6d5185af2"
      },
      "outputs": [
        {
          "output_type": "stream",
          "name": "stdout",
          "text": [
            "Merhaba, Python programlama dili üzerinde koşul yapıları\n"
          ]
        }
      ],
      "source": [
        "print(\"Merhaba, Python programlama dili üzerinde koşul yapıları\")"
      ]
    },
    {
      "cell_type": "code",
      "source": [
        "import sys\n",
        "print(sys.version)"
      ],
      "metadata": {
        "colab": {
          "base_uri": "https://localhost:8080/"
        },
        "id": "sY2xP8ucpTE-",
        "outputId": "57f78203-c2ae-4435-b6fa-6873fae5c0a4"
      },
      "execution_count": null,
      "outputs": [
        {
          "output_type": "stream",
          "name": "stdout",
          "text": [
            "3.11.11 (main, Dec  4 2024, 08:55:07) [GCC 11.4.0]\n"
          ]
        }
      ]
    },
    {
      "cell_type": "code",
      "source": [
        "from google.colab import drive\n",
        "drive.mount('/content/drive')"
      ],
      "metadata": {
        "colab": {
          "base_uri": "https://localhost:8080/"
        },
        "id": "AAiVOgONpW1H",
        "outputId": "7b6a503a-2f16-4717-842c-3ff4620b943e"
      },
      "execution_count": null,
      "outputs": [
        {
          "output_type": "stream",
          "name": "stdout",
          "text": [
            "Mounted at /content/drive\n"
          ]
        }
      ]
    },
    {
      "cell_type": "code",
      "source": [
        "import os\n",
        "os.chdir('/content/drive/My Drive/veri_algoritmaları/veri_algoritmaları')\n",
        "!pwd"
      ],
      "metadata": {
        "colab": {
          "base_uri": "https://localhost:8080/"
        },
        "id": "BjhHscERpaYX",
        "outputId": "6599839e-9a28-4c6d-caed-a534cacb2e55"
      },
      "execution_count": null,
      "outputs": [
        {
          "output_type": "stream",
          "name": "stdout",
          "text": [
            "/content/drive/My Drive/veri_algoritmaları/veri_algoritmaları\n"
          ]
        }
      ]
    },
    {
      "cell_type": "code",
      "source": [
        "a = 10\n",
        "\n",
        "if a > 0 :\n",
        "  a= a+1\n",
        "print(a)\n"
      ],
      "metadata": {
        "colab": {
          "base_uri": "https://localhost:8080/"
        },
        "id": "GPXqNIKaXBcq",
        "outputId": "c24b2af9-fee6-4233-8bf9-f75c4c74e667"
      },
      "execution_count": null,
      "outputs": [
        {
          "output_type": "stream",
          "name": "stdout",
          "text": [
            "11\n"
          ]
        }
      ]
    },
    {
      "cell_type": "code",
      "source": [
        "a =4\n",
        "b =1\n",
        "\n",
        "if a > b:\n",
        " print(a)\n",
        "else:\n",
        " print(b)"
      ],
      "metadata": {
        "colab": {
          "base_uri": "https://localhost:8080/"
        },
        "id": "5DEt4BvtXexk",
        "outputId": "29bb2c6c-b67f-4e98-bb41-32b73c09c95f"
      },
      "execution_count": null,
      "outputs": [
        {
          "output_type": "stream",
          "name": "stdout",
          "text": [
            "4\n"
          ]
        }
      ]
    },
    {
      "cell_type": "code",
      "source": [
        "a = 5\n",
        "b = 4\n",
        "c = 0\n",
        "\n",
        "if a >0 and b>0:\n",
        "  c = a+b\n",
        "  c = a*a +c\n",
        "print(c)"
      ],
      "metadata": {
        "colab": {
          "base_uri": "https://localhost:8080/"
        },
        "id": "vpvYZODxXyYR",
        "outputId": "4326b8d4-d7cd-4f35-9f90-0664823578b0"
      },
      "execution_count": null,
      "outputs": [
        {
          "output_type": "stream",
          "name": "stdout",
          "text": [
            "34\n"
          ]
        }
      ]
    },
    {
      "cell_type": "code",
      "source": [
        "a = 5\n",
        "b = 4\n",
        "c = 4\n",
        "\n",
        "if a >0 and b<0:\n",
        "  c = a*b + b\n",
        "print(c)"
      ],
      "metadata": {
        "colab": {
          "base_uri": "https://localhost:8080/"
        },
        "id": "NnzRF1CuYI8u",
        "outputId": "29a37298-0913-4a49-a880-4169b1facd31"
      },
      "execution_count": null,
      "outputs": [
        {
          "output_type": "stream",
          "name": "stdout",
          "text": [
            "4\n"
          ]
        }
      ]
    },
    {
      "cell_type": "code",
      "source": [
        "a = 4\n",
        "b = 1\n",
        "c = 9\n",
        "sonuc = 0\n",
        "\n",
        "if a >0 :\n",
        " sonuc +=1\n",
        " sonuc = a*c -b\n",
        " print(sonuc)\n",
        "else:\n",
        " sonuc -=1\n",
        " sonuc = a/c -b\n",
        " print(sonuc)"
      ],
      "metadata": {
        "colab": {
          "base_uri": "https://localhost:8080/"
        },
        "id": "hriGfUa4YeK6",
        "outputId": "5b8b53d1-20c0-44f9-ed0a-ec900955f0b4"
      },
      "execution_count": null,
      "outputs": [
        {
          "output_type": "stream",
          "name": "stdout",
          "text": [
            "35\n"
          ]
        }
      ]
    },
    {
      "cell_type": "code",
      "source": [
        "degisken = 0\n",
        "sonuc = 0\n",
        "\n",
        "if degisken == 1:\n",
        "  sonuc +=1\n",
        "  print(sonuc)\n",
        "elif degisken ==2:\n",
        "  sonuc +=2\n",
        "  print(sonuc)\n",
        "elif degisken ==3:\n",
        "  sonuc +=3\n",
        "  print(sonuc)\n",
        "else:\n",
        "  sonuc = 0\n",
        "  print(sonuc)"
      ],
      "metadata": {
        "colab": {
          "base_uri": "https://localhost:8080/"
        },
        "id": "vWNVrPa5ZEr7",
        "outputId": "4a3cbe7e-5518-4036-b04f-d7bdf3cbf92a"
      },
      "execution_count": null,
      "outputs": [
        {
          "output_type": "stream",
          "name": "stdout",
          "text": [
            "0\n"
          ]
        }
      ]
    }
  ]
}