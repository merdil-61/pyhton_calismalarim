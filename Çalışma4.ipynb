{
  "nbformat": 4,
  "nbformat_minor": 0,
  "metadata": {
    "colab": {
      "provenance": []
    },
    "kernelspec": {
      "name": "python3",
      "display_name": "Python 3"
    },
    "language_info": {
      "name": "python"
    }
  },
  "cells": [
    {
      "cell_type": "markdown",
      "source": [
        "**VERİ YAPILARI VE ALGORİTMALAR**"
      ],
      "metadata": {
        "id": "yWR-SBNcrgSB"
      }
    },
    {
      "cell_type": "markdown",
      "source": [
        "** Algoritma Gelistirme:Sıralı, Koşullu ve Tekrarlı Yapılar**"
      ],
      "metadata": {
        "id": "-00mOOIErJgZ"
      }
    },
    {
      "cell_type": "code",
      "execution_count": null,
      "metadata": {
        "colab": {
          "base_uri": "https://localhost:8080/"
        },
        "id": "IKO_aC16pI7z",
        "outputId": "2952f9e1-cd38-4b18-c330-d5255386c6d7"
      },
      "outputs": [
        {
          "output_type": "stream",
          "name": "stdout",
          "text": [
            "Merhaba,  Algoritma Gelistirme:Sıralı, Koşullu ve Tekrarlı Yapılar\n"
          ]
        }
      ],
      "source": [
        "print(\"Merhaba,  Algoritma Gelistirme:Sıralı, Koşullu ve Tekrarlı Yapılar\")"
      ]
    },
    {
      "cell_type": "code",
      "source": [
        "import sys\n",
        "print(sys.version)"
      ],
      "metadata": {
        "colab": {
          "base_uri": "https://localhost:8080/"
        },
        "id": "sY2xP8ucpTE-",
        "outputId": "f019be1a-3b55-46fc-f8b0-0790bb185315"
      },
      "execution_count": null,
      "outputs": [
        {
          "output_type": "stream",
          "name": "stdout",
          "text": [
            "3.11.11 (main, Dec  4 2024, 08:55:07) [GCC 11.4.0]\n"
          ]
        }
      ]
    },
    {
      "cell_type": "code",
      "source": [
        "from google.colab import drive\n",
        "drive.mount('/content/drive')"
      ],
      "metadata": {
        "colab": {
          "base_uri": "https://localhost:8080/"
        },
        "id": "AAiVOgONpW1H",
        "outputId": "7f348f4a-0112-4290-a7ac-7695e680f121"
      },
      "execution_count": null,
      "outputs": [
        {
          "output_type": "stream",
          "name": "stdout",
          "text": [
            "Mounted at /content/drive\n"
          ]
        }
      ]
    },
    {
      "cell_type": "code",
      "source": [
        "import os\n",
        "os.chdir('/content/drive/My Drive/veri_algoritmaları/veri_algoritmaları')\n",
        "!pwd"
      ],
      "metadata": {
        "colab": {
          "base_uri": "https://localhost:8080/"
        },
        "id": "BjhHscERpaYX",
        "outputId": "077ca2ea-4b5d-48d2-e771-b5afff5d51fa"
      },
      "execution_count": null,
      "outputs": [
        {
          "output_type": "stream",
          "name": "stdout",
          "text": [
            "/content/drive/My Drive/veri_algoritmaları/veri_algoritmaları\n"
          ]
        }
      ]
    },
    {
      "cell_type": "markdown",
      "source": [
        "**Sıralı Kosullu ve Tekrarlı Yapılar**"
      ],
      "metadata": {
        "id": "9RRQQGedL8Gw"
      }
    },
    {
      "cell_type": "code",
      "source": [
        "mil = float(input(\"Mil Bilgisini Giriniz\"))\n",
        "Kilometre = mil * 1.60934\n",
        "print(Kilometre)\n"
      ],
      "metadata": {
        "colab": {
          "base_uri": "https://localhost:8080/"
        },
        "id": "kkb8dMveLzPt",
        "outputId": "796800cb-3ce9-4417-f3bf-88aa8deac001"
      },
      "execution_count": null,
      "outputs": [
        {
          "output_type": "stream",
          "name": "stdout",
          "text": [
            "Mil Bilgisini Giriniz3.8\n",
            "6.115492\n"
          ]
        }
      ]
    },
    {
      "cell_type": "code",
      "source": [
        "a = 10\n",
        "if a > 10: #True-False\n",
        "  a= a+1\n",
        "print(a)"
      ],
      "metadata": {
        "colab": {
          "base_uri": "https://localhost:8080/"
        },
        "id": "BxIRv7HoM__d",
        "outputId": "3cc8bbe6-a908-4e22-c481-9f3b8d9175a4"
      },
      "execution_count": null,
      "outputs": [
        {
          "output_type": "stream",
          "name": "stdout",
          "text": [
            "10\n"
          ]
        }
      ]
    },
    {
      "cell_type": "code",
      "source": [
        "for degisken in range(1,12):\n",
        " print(degisken)"
      ],
      "metadata": {
        "colab": {
          "base_uri": "https://localhost:8080/"
        },
        "id": "ERhBuh9hNstN",
        "outputId": "045f2d9f-17a5-42f5-c96a-beb5137857bf"
      },
      "execution_count": null,
      "outputs": [
        {
          "output_type": "stream",
          "name": "stdout",
          "text": [
            "1\n",
            "2\n",
            "3\n",
            "4\n",
            "5\n",
            "6\n",
            "7\n",
            "8\n",
            "9\n",
            "10\n",
            "11\n"
          ]
        }
      ]
    },
    {
      "cell_type": "code",
      "source": [
        "\n",
        "print(\"Günlük çalışma saatinİ gir:\")\n",
        "saat = float(input(\"Saat Bilgisi\"))\n",
        "\n",
        "ucret = float(input(\"Saatlik Ücreti\"))\n",
        "\n",
        "brutmaas=saat*ucret\n",
        "\n",
        "print(\"Günlük Hesaplanan Brüt Maaş:\", brutmaas,\"TL\")\n"
      ],
      "metadata": {
        "colab": {
          "base_uri": "https://localhost:8080/"
        },
        "id": "iD4sNLG1OZ6g",
        "outputId": "7bebfd16-f972-4d7e-ce64-f5e63478848f"
      },
      "execution_count": null,
      "outputs": [
        {
          "output_type": "stream",
          "name": "stdout",
          "text": [
            "Günlük çalışma saatinİ gir:\n",
            "Saat Bilgisi5\n",
            "Saatlik Ücreti175.50\n",
            "Günlük Hesaplanan Brüt Maaş: 877.5 TL\n"
          ]
        }
      ]
    },
    {
      "cell_type": "code",
      "source": [
        "print(\"Günlük çalışma saatinİ gir:\")\n",
        "saat = float(input(\"Saat Bilgisi\"))\n",
        "ucret = float(input(\"Saatlik Ücreti\"))\n",
        "\n",
        "Gun =30\n",
        "\n",
        "aylik_maas=Gun*saat*ucret\n",
        "\n",
        "#print(\"Günlük Hesaplanan Brüt Maaş:\", brutmaas,\"TL\")\n",
        "print(\"Aylık Hesaplanan Brut Maaş:\",aylik_maas,\"TL\")\n"
      ],
      "metadata": {
        "colab": {
          "base_uri": "https://localhost:8080/"
        },
        "id": "u8fwUUL7QJ2K",
        "outputId": "abdeec53-e251-41b0-81b6-1d97b7deb904"
      },
      "execution_count": null,
      "outputs": [
        {
          "output_type": "stream",
          "name": "stdout",
          "text": [
            "Günlük çalışma saatinİ gir:\n",
            "Saat Bilgisi5\n",
            "Saatlik Ücreti175.50\n",
            "Aylık Hesaplanan Brut Maaş: 26325.0 TL\n"
          ]
        }
      ]
    },
    {
      "cell_type": "code",
      "source": [
        "mil = float(input(\"Mil Bilgisini Giriniz\"))\n",
        "Kilometre = mil * 1.60934\n",
        "print(Kilometre)\n"
      ],
      "metadata": {
        "colab": {
          "base_uri": "https://localhost:8080/"
        },
        "id": "qtQmlRK4RfVY",
        "outputId": "a3906c47-d424-469c-c9dd-5387076cfe28"
      },
      "execution_count": null,
      "outputs": [
        {
          "output_type": "stream",
          "name": "stdout",
          "text": [
            "Mil Bilgisini Giriniz10\n",
            "16.0934\n"
          ]
        }
      ]
    },
    {
      "cell_type": "code",
      "source": [
        "sayi = int(input (\"4 basamaklı sayı bilgisi giriniz\"))\n",
        "\n",
        "binler =sayi // 1000\n",
        "yuzler =(sayi // 100) % 10\n",
        "onlar = (sayi //10) % 10\n",
        "birler =sayi % 10\n",
        "\n",
        "print (\"Sayının Rakamlar:\",binler, yuzler, onlar, birler)\n",
        "\n",
        "yeni_sayi = yuzler * 1000 +binler * 100 +onlar * 10 +birler\n",
        "\n",
        "print(\"Yeni Sayı:\", yeni_sayi)\n",
        "print(\"Girilen Sayı:\", sayi)\n",
        "\n"
      ],
      "metadata": {
        "colab": {
          "base_uri": "https://localhost:8080/"
        },
        "id": "FodnVIufR08q",
        "outputId": "c959caa9-6c50-4fd3-d036-1aba49867168"
      },
      "execution_count": null,
      "outputs": [
        {
          "output_type": "stream",
          "name": "stdout",
          "text": [
            "4 basamaklı sayı bilgisi giriniz9876\n",
            "Sayının Rakamlar: 9 8 7 6\n",
            "Yeni Sayı: 8976\n",
            "Girilen Sayı: 9876\n"
          ]
        }
      ]
    },
    {
      "cell_type": "code",
      "source": [
        "metin = \"Python\"\n",
        "\n",
        "print(\"Metin uzunluğu:\", len(metin))\n",
        "\n",
        "print(\"Büyük harf dönüşümü: \", metin.upper())\n",
        "\n",
        "print(\"Küçük harf dönüşümü: \", metin.lower())"
      ],
      "metadata": {
        "colab": {
          "base_uri": "https://localhost:8080/"
        },
        "id": "AippH2vPUmdK",
        "outputId": "b2f2deae-343b-4456-8f5b-6279a730553d"
      },
      "execution_count": null,
      "outputs": [
        {
          "output_type": "stream",
          "name": "stdout",
          "text": [
            "Metin uzunluğu: 6\n",
            "Büyük harf dönüşümü:  PYTHON\n",
            "Küçük harf dönüşümü:  python\n"
          ]
        }
      ]
    }
  ]
}